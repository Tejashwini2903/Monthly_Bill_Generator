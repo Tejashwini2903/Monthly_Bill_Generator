{
 "cells": [
  {
   "cell_type": "code",
   "execution_count": 19,
   "id": "aaf74215-7254-4b40-8c90-f98f2f88e21c",
   "metadata": {},
   "outputs": [],
   "source": [
    "from datetime import datetime\n",
    "import calendar\n",
    "from collections import defaultdict\n",
    "\n",
    "# Helper to calculate overlapping days\n",
    "def get_overlap_days(start, end, month_start, month_end):\n",
    "    overlap_start = max(start, month_start)\n",
    "    overlap_end = min(end, month_end)\n",
    "    delta = (overlap_end - overlap_start).days + 1\n",
    "    return max(delta, 0), overlap_start, overlap_end\n",
    "\n",
    "# ✅ Final Billing Function\n",
    "def generate_monthly_bill(item_list: list, target_month: str) -> dict:\n",
    "    year, month = map(int, target_month.split('-'))\n",
    "    month_start = datetime(year, month, 1)\n",
    "    last_day = calendar.monthrange(year, month)[1]\n",
    "    month_end = datetime(year, month, last_day)\n",
    "\n",
    "    grouped_items = defaultdict(lambda: {\"qty\": 0, \"amount\": 0.0})\n",
    "\n",
    "    for item in item_list:\n",
    "        start_date = datetime.strptime(item[\"start_date\"], \"%Y-%m-%d\")\n",
    "        end_date = datetime.strptime(item[\"end_date\"], \"%Y-%m-%d\") if item.get(\"end_date\") else month_end\n",
    "\n",
    "        overlap_days, overlap_start, overlap_end = get_overlap_days(start_date, end_date, month_start, month_end)\n",
    "\n",
    "        if overlap_days > 0:\n",
    "            item_code = item[\"item_code\"]\n",
    "            rate = item[\"rate\"]\n",
    "            qty = item[\"quantity\"]\n",
    "            days_in_month = (month_end - month_start).days + 1\n",
    "\n",
    "            prorated_rate = (rate * overlap_days) / days_in_month\n",
    "            amount = round(prorated_rate * qty, 2)\n",
    "\n",
    "            billing_period = f\"{overlap_start.date()} to {overlap_end.date()}\"\n",
    "\n",
    "            key = (item_code, rate, billing_period)\n",
    "\n",
    "            grouped_items[key][\"qty\"] += qty\n",
    "            grouped_items[key][\"amount\"] += amount\n",
    "\n",
    "    line_items = []\n",
    "    total_revenue = 0.0\n",
    "\n",
    "    for (item_code, rate, billing_period), values in grouped_items.items():\n",
    "        amount = round(values[\"amount\"], 2)\n",
    "        line_items.append({\n",
    "            \"item_code\": item_code,\n",
    "            \"rate\": float(rate),\n",
    "            \"qty\": values[\"qty\"],\n",
    "            \"amount\": amount,\n",
    "            \"billing_period\": billing_period\n",
    "        })\n",
    "        total_revenue += amount\n",
    "\n",
    "    return {\n",
    "        \"line_items\": line_items,\n",
    "        \"total_revenue\": round(total_revenue, 2)\n",
    "    }\n"
   ]
  },
  {
   "cell_type": "code",
   "execution_count": 7,
   "id": "5a25fb98-e6f0-45f6-a802-1b5a5b6e83f9",
   "metadata": {},
   "outputs": [
    {
     "name": "stdout",
     "output_type": "stream",
     "text": [
      "{'line_items': [{'item_code': 'Executive Desk (4*2)', 'rate': 1080.0, 'qty': 25, 'amount': 27000.0, 'billing_period': '2024-11-01 to 2024-11-30'}, {'item_code': 'Manager Cabin', 'rate': 5000.0, 'qty': 5, 'amount': 21666.67, 'billing_period': '2024-11-05 to 2024-11-30'}], 'total_revenue': 48666.67}\n"
     ]
    }
   ],
   "source": [
    "item_list = [\n",
    "    {\n",
    "        \"item_code\": \"Executive Desk (4*2)\",\n",
    "        \"rate\": 1080.0,\n",
    "        \"quantity\": 25,\n",
    "        \"start_date\": \"2024-11-01\",\n",
    "        \"end_date\": \"2024-11-30\"\n",
    "    },\n",
    "    {\n",
    "        \"item_code\": \"Manager Cabin\",\n",
    "        \"rate\": 5000.0,\n",
    "        \"quantity\": 5,\n",
    "        \"start_date\": \"2024-11-05\",\n",
    "        \"end_date\": \"2024-11-30\"\n",
    "    }\n",
    "]\n",
    "\n",
    "result = generate_monthly_bill(item_list, \"2024-11\")\n",
    "print(result)\n"
   ]
  },
  {
   "cell_type": "code",
   "execution_count": null,
   "id": "89b3ad67-273b-4445-b626-482baf1faa0c",
   "metadata": {},
   "outputs": [],
   "source": []
  }
 ],
 "metadata": {
  "kernelspec": {
   "display_name": "Python 3 (ipykernel)",
   "language": "python",
   "name": "python3"
  },
  "language_info": {
   "codemirror_mode": {
    "name": "ipython",
    "version": 3
   },
   "file_extension": ".py",
   "mimetype": "text/x-python",
   "name": "python",
   "nbconvert_exporter": "python",
   "pygments_lexer": "ipython3",
   "version": "3.12.7"
  }
 },
 "nbformat": 4,
 "nbformat_minor": 5
}
